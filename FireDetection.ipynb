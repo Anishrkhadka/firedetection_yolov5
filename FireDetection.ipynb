{
 "cells": [
  {
   "cell_type": "code",
   "execution_count": 189,
   "id": "c70a2322-05c3-4b3c-823f-10ee0f59fb6b",
   "metadata": {},
   "outputs": [],
   "source": [
    "# Purpose: Input images or video and detect fire, if detected connect to FTP server and send the Image with BBbox, GPS location\n",
    "import os\n",
    "import sys\n",
    "import glob\n",
    "import datetime\n",
    "import time\n",
    "import torch\n",
    "from ftplib import FTP_TLS"
   ]
  },
  {
   "cell_type": "code",
   "execution_count": 234,
   "id": "801b2526-0eb1-4afc-9a6f-c657c52dcf78",
   "metadata": {},
   "outputs": [],
   "source": [
    "# Purpose: Initial configuration for the ftp and yolov5\n",
    "HOSTNAME = '192.168.1.14'\n",
    "USERNAME = 'anish'\n",
    "PASSWORD = 'anonomous'\n",
    "\n",
    "WEIGHT_PATH = './models/best.pt'\n",
    "IMAGE_PATH = 'mpv-shot0001.jpg'\n",
    "PATH_TO_YOLO = './yolov5/'\n",
    "OUTPUT ='output'\n",
    "folder_ext = '000'\n",
    "current_longitude= 38.001451\n",
    "current_latitude = 23.668016\n",
    "\n",
    "sys.path.append(PATH_TO_YOLO)"
   ]
  },
  {
   "cell_type": "code",
   "execution_count": 273,
   "id": "4a19997b-5982-47c0-ac49-770b5b1bcb4c",
   "metadata": {},
   "outputs": [],
   "source": [
    "# Purpose: Utility function for ftp and fire detection\n",
    "def connect_ftp_server(host_address, username, passwd, port=4444):\n",
    "    ftp_server = FTP_TLS()\n",
    "    ftp_server.connect(host_address, port)\n",
    "    # force UTF-8 encoding\n",
    "    ftp_server.encoding = \"utf-8\"\n",
    "    return ftp_server\n",
    "\n",
    "def upload_file_to_ftp(filename_path):\n",
    "    # Read file in binary mode\n",
    "    with open(filename_path, \"rb\") as file:\n",
    "        # extract the file name \n",
    "        try:\n",
    "            filename_path = filename_path.split('/')[-1]\n",
    "        except:\n",
    "            pass\n",
    "        #upload the file to the server\n",
    "        ftp_server.storbinary(f\"STOR {filename_path}\", file)\n",
    "\n",
    "def download_file_from_ftp(filename_path):\n",
    "    with open(filename_path, 'wb') as file:\n",
    "        ftp_server.retrbinary(f\"RETR {filename_path}\", file.write)\n",
    "        \n",
    "def append_content_to_file(filename_path, in_content):\n",
    "    with open(filename_path, 'a') as f:\n",
    "        f.write(in_content)\n",
    "\n",
    "def read_file(filename_path):\n",
    "    file = open(filename_path, \"r\")\n",
    "    print('File Content:', file.read())\n",
    "    return file\n",
    "\n",
    "# Check the folder number and get the highest folder number, list sort didn't work for this. \n",
    "def get_latest_folder(folders):\n",
    "    highest = 0\n",
    "    latest_out_folder=''\n",
    "    for folder_name in folders:\n",
    "        if int(folder_name.split('/')[-1])>highest:\n",
    "            highest = int(folder_name.split('/')[-1])\n",
    "            latest_out_folder = folder_name\n",
    "    return latest_out_folder\n",
    "\n",
    "def get_fire_detection_output(in_outfolder):\n",
    "    folders = glob.glob(in_outfolder+\"*\")\n",
    "    folders.sort()\n",
    "    latest_out_folder = get_latest_folder(folders)\n",
    "\n",
    "    try:\n",
    "        # Check if there are any bbox label if yes we have detected fire else no fire\n",
    "        output_bbox = glob.glob(latest_out_folder+'/labels/*')\n",
    "        if len(output_bbox)>0:\n",
    "            return latest_out_folder+'/'+IMAGE_PATH\n",
    "        else:\n",
    "            return \"\"\n",
    "    except:\n",
    "        print('No fire detected')\n",
    "\n",
    "    \n",
    "def detect_fire(input_files):\n",
    "    os.system(\n",
    "        f'python3 {PATH_TO_YOLO}/detect.py --weights {WEIGHT_PATH} \\\n",
    "        --img 640 --conf 0.2 --source {input_files} --save-txt --project={OUTPUT} --name {folder_ext}'\n",
    "    )\n"
   ]
  },
  {
   "cell_type": "code",
   "execution_count": 214,
   "id": "1908cc53-18ee-4915-a330-92ef49ef3ccf",
   "metadata": {},
   "outputs": [],
   "source": [
    "# Purpose: Connect to ftp server and download the evenlist.csv file\n",
    "ftp_server = connect_ftp_server(HOSTNAME, USERNAME, PASSWORD)\n",
    "download_file_from_ftp('EventList.csv')"
   ]
  },
  {
   "cell_type": "code",
   "execution_count": 274,
   "id": "24b3b7c3-e125-4955-9a50-c18860721603",
   "metadata": {},
   "outputs": [],
   "source": [
    "# Purpose: detect fire in the given image\n",
    "detect_fire('./mpv-shot0001.jpg')"
   ]
  },
  {
   "cell_type": "code",
   "execution_count": 271,
   "id": "1a05d1ca-6ef6-4be0-ae10-67e32a969f85",
   "metadata": {},
   "outputs": [],
   "source": [
    "detect_fire('./no_fire.png')"
   ]
  },
  {
   "cell_type": "code",
   "execution_count": 275,
   "id": "6236a587-bd8e-44cd-8242-93d007d44315",
   "metadata": {},
   "outputs": [
    {
     "name": "stdout",
     "output_type": "stream",
     "text": [
      "output/00017/mpv-shot0001.jpg\n"
     ]
    }
   ],
   "source": [
    "# Purpose: Check the latest output file and see if there is any fire detection, if yes get the file path\n",
    "latest_out = get_fire_detection_output(OUTPUT+'/'+folder_ext)\n",
    "print(latest_out)"
   ]
  },
  {
   "cell_type": "code",
   "execution_count": 197,
   "id": "6952184f-5313-45a3-b4e5-109e5064ab00",
   "metadata": {},
   "outputs": [],
   "source": [
    "# Purpose: If fire is detected upload it and create a new event in event list\n",
    "if len(latest_out)>0:\n",
    "    upload_file_to_ftp(latest_out)\n",
    "    text= f\"\\n1005,Fire, fire, {current_longitude}, {current_latitude}, http://{HOSTNAME}:8000/{latest_out.split('/')[-1]}\"\n",
    "    append_content_to_file('EventList.csv',text)\n",
    "    upload_file_to_ftp('EventList.csv')"
   ]
  },
  {
   "cell_type": "code",
   "execution_count": null,
   "id": "541a196b-ce40-4c35-a303-05400d323474",
   "metadata": {},
   "outputs": [],
   "source": []
  }
 ],
 "metadata": {
  "kernelspec": {
   "display_name": "py36_tensorflow",
   "language": "python",
   "name": "py36_tensorflow"
  },
  "language_info": {
   "codemirror_mode": {
    "name": "ipython",
    "version": 3
   },
   "file_extension": ".py",
   "mimetype": "text/x-python",
   "name": "python",
   "nbconvert_exporter": "python",
   "pygments_lexer": "ipython3",
   "version": "3.6.15"
  }
 },
 "nbformat": 4,
 "nbformat_minor": 5
}
