{
 "cells": [
  {
   "cell_type": "code",
   "execution_count": 77,
   "id": "75bbdc5f-8331-4373-a7e8-4e5f7b5a60e3",
   "metadata": {},
   "outputs": [],
   "source": [
    "from ftplib import FTP_TLS"
   ]
  },
  {
   "cell_type": "code",
   "execution_count": 78,
   "id": "fca63c04-352a-4c92-bc1c-f1178df3fed1",
   "metadata": {},
   "outputs": [],
   "source": [
    "HOSTNAME = '192.168.1.14'\n",
    "USERNAME = 'anish'\n",
    "PASSWORD = 'anonomous'"
   ]
  },
  {
   "cell_type": "code",
   "execution_count": 85,
   "id": "72f2262e-fff1-4105-9ba9-f417fcebf30b",
   "metadata": {},
   "outputs": [],
   "source": [
    "def connect_ftp_server(host_address, username, passwd):\n",
    "    # ftp_server = ftplib.FTP(host_address, username, passwd, source_address=[host_address, 4444])\n",
    "    ftp_server = FTP_TLS()\n",
    "    ftp_server.connect(host_address, 4444)\n",
    "    # ftp_server.login(username, passwd)\n",
    "    # force UTF-8 encoding\n",
    "    ftp_server.encoding = \"utf-8\"\n",
    "    return ftp_server\n",
    "\n",
    "def upload_file_to_ftp(in_file):\n",
    "    # Enter File Name with Extension\n",
    "    filename = in_file\n",
    "    # Read file in binary mode\n",
    "    with open(filename, \"rb\") as file:\n",
    "        # Command for Uploading the file \"STOR filename\"\n",
    "        ftp_server.storbinary(f\"STOR {filename}\", file)\n",
    "\n",
    "def download_file_from_ftp(filename):\n",
    "    with open(filename, 'wb') as file:\n",
    "        ftp_server.retrbinary(f\"RETR {filename}\", file.write)\n",
    "        \n",
    "def append_content_to_file(filename, in_content):\n",
    "    with open(filename, 'a') as f:\n",
    "        f.write(in_content)\n",
    "\n",
    "def read_file(filename):\n",
    "    file = open(filename, \"r\")\n",
    "    print('File Content:', file.read())\n",
    "    return file"
   ]
  },
  {
   "cell_type": "code",
   "execution_count": 80,
   "id": "be92d434-416d-458b-8b7c-abc2166d4738",
   "metadata": {},
   "outputs": [],
   "source": [
    "ftp_server = connect_ftp_server(HOSTNAME, USERNAME, PASSWORD)\n",
    "# ftp_server.dir()"
   ]
  },
  {
   "cell_type": "code",
   "execution_count": 81,
   "id": "b1a071f7-e494-46dc-a834-e359af937943",
   "metadata": {},
   "outputs": [],
   "source": [
    "download_file_from_ftp('EventList.csv')\n",
    "# read_file('EventList.csv')"
   ]
  },
  {
   "cell_type": "code",
   "execution_count": 82,
   "id": "245337de-d1a9-4192-a613-b4bd2c8225fc",
   "metadata": {},
   "outputs": [],
   "source": [
    "text= \"\\n1005,Fire, fire, 38.001451, 23.668016, http://192.168.1.14:8000/fire-preview.jpg\"\n",
    "append_content_to_file('EventList.csv',text)"
   ]
  },
  {
   "cell_type": "code",
   "execution_count": 83,
   "id": "c441f96f-ea3a-4814-8a5d-4c6c1e79530e",
   "metadata": {},
   "outputs": [
    {
     "name": "stdout",
     "output_type": "stream",
     "text": [
      "File Content: 1001,CarAccident, Car accident,37.99746,23.66814, http://192.168.1.14:8000/CarAccident.jpg\n",
      "1002,DamagedHouse, Damaged house,38.000041, 23.671745, http://192.168.1.14:8000/damaged_house.jpg\n",
      "1003,Fire, fire, 38.001451, 23.668016, http://192.168.1.14:8000/fire-preview.jpg\n",
      "1004,Fire, fire, 38.001451, 23.668016, http://192.168.1.14:8000/fire-preview.jpg\n",
      "1005,Fire, fire, 38.001451, 23.668016, http://192.168.1.14:8000/fire-preview.jpg\n"
     ]
    },
    {
     "data": {
      "text/plain": [
       "<_io.TextIOWrapper name='EventList.csv' mode='r' encoding='UTF-8'>"
      ]
     },
     "execution_count": 83,
     "metadata": {},
     "output_type": "execute_result"
    }
   ],
   "source": [
    "read_file('EventList.csv')"
   ]
  },
  {
   "cell_type": "code",
   "execution_count": 86,
   "id": "5b851d9f-a7cf-44c6-b36a-1e056b17bdfc",
   "metadata": {},
   "outputs": [],
   "source": [
    "upload_file_to_ftp('EventList.csv')"
   ]
  },
  {
   "cell_type": "code",
   "execution_count": null,
   "id": "9e38b59b-7523-4af8-9249-2724d6626e90",
   "metadata": {},
   "outputs": [],
   "source": []
  }
 ],
 "metadata": {
  "kernelspec": {
   "display_name": "Python 3",
   "language": "python",
   "name": "python3"
  },
  "language_info": {
   "codemirror_mode": {
    "name": "ipython",
    "version": 3
   },
   "file_extension": ".py",
   "mimetype": "text/x-python",
   "name": "python",
   "nbconvert_exporter": "python",
   "pygments_lexer": "ipython3",
   "version": "3.6.15"
  }
 },
 "nbformat": 4,
 "nbformat_minor": 5
}
